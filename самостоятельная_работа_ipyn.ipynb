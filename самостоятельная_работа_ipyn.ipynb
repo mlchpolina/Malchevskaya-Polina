{
  "nbformat": 4,
  "nbformat_minor": 0,
  "metadata": {
    "colab": {
      "name": "самостоятельная работа.ipyn",
      "provenance": [],
      "collapsed_sections": []
    },
    "kernelspec": {
      "name": "python3",
      "display_name": "Python 3"
    }
  },
  "cells": [
    {
      "cell_type": "code",
      "metadata": {
        "id": "Ozmn31ZDnlJD"
      },
      "source": [
        "class book:\n",
        "  def __init__(self,t,a,y): #конструктор\n",
        "    self.title=t\n",
        "    self.author=a\n",
        "    self.year=y\n",
        "  def years(self): #функция вычисляющая сколько книге лет \n",
        "    h=int(input('введите текущий год '))-self.year\n",
        "    print('книге',h,'лет')\n",
        "  def days(self): #функция вычисляющая кол-во дней\n",
        "    d=365*(int(input('введите текущий год '))-self.year)\n",
        "    print('книге',d,'дней')\n",
        "  def __str__(self):\n",
        "    return '{}.{}.{:O>4}'.format(self.title,self.author,self.year) #выравнивание\n",
        "  def __del__(self): #деструктор \n",
        "    print('удаление...')"
      ],
      "execution_count": null,
      "outputs": []
    },
    {
      "cell_type": "code",
      "metadata": {
        "id": "1kmoTrProVDb",
        "outputId": "0024bf98-01ef-45e7-aa5f-4780af75a80d",
        "colab": {
          "base_uri": "https://localhost:8080/"
        }
      },
      "source": [
        "book1=book('Морской волк','Джек Лондон',1904)\n",
        "print(book1.title,book1.author,book1.year)"
      ],
      "execution_count": null,
      "outputs": [
        {
          "output_type": "stream",
          "text": [
            "удаление...\n",
            "Морской волк Джек Лондон 1904\n"
          ],
          "name": "stdout"
        }
      ]
    },
    {
      "cell_type": "code",
      "metadata": {
        "id": "0VqpIjm9olmF",
        "outputId": "80bad56f-e5f9-45ca-e4cc-57d9bcc90d8a",
        "colab": {
          "base_uri": "https://localhost:8080/"
        }
      },
      "source": [
        "book1.years()"
      ],
      "execution_count": null,
      "outputs": [
        {
          "output_type": "stream",
          "text": [
            "введите текущий год 2020\n",
            "книге 116 лет\n"
          ],
          "name": "stdout"
        }
      ]
    },
    {
      "cell_type": "code",
      "metadata": {
        "id": "zfeGCoGxoo8d",
        "outputId": "3209dc9d-a8dd-4746-e432-2e9efc6399fa",
        "colab": {
          "base_uri": "https://localhost:8080/"
        }
      },
      "source": [
        "book1.days()"
      ],
      "execution_count": null,
      "outputs": [
        {
          "output_type": "stream",
          "text": [
            "введите текущий год 2020\n",
            "книге 42340 дней\n"
          ],
          "name": "stdout"
        }
      ]
    },
    {
      "cell_type": "code",
      "metadata": {
        "id": "wFFB1Ey6sGWV",
        "outputId": "c7464c88-48de-42ed-f2dd-e79fe817f19a",
        "colab": {
          "base_uri": "https://localhost:8080/"
        }
      },
      "source": [
        "book2=book('Кладбище домашних животных','Стивен Кинг',1983)\n",
        "print(book2.title,book2.author,book2.year)\n",
        "book2.__del__()"
      ],
      "execution_count": null,
      "outputs": [
        {
          "output_type": "stream",
          "text": [
            "удаление...\n",
            "Кладбище домашних животных Стивен Кинг 1983\n",
            "удаление...\n"
          ],
          "name": "stdout"
        }
      ]
    },
    {
      "cell_type": "code",
      "metadata": {
        "id": "DJUv9d42sTRV",
        "outputId": "2cb9723b-d5ca-4585-8457-eb8fdb5ceca8",
        "colab": {
          "base_uri": "https://localhost:8080/"
        }
      },
      "source": [
        "book3=book(str(input('название произведения ')),str(input('введите автора ')),int(input('введите год написания ')))\n",
        "print(book3.title,book3.author,book3.year)\n",
        "book3.days()"
      ],
      "execution_count": null,
      "outputs": [
        {
          "output_type": "stream",
          "text": [
            "название произведения анна снегина\n",
            "введите автора сергей есенин \n",
            "введите год написания 1925\n",
            "удаление...\n",
            "анна снегина сергей есенин  1925\n",
            "введите текущий год 2020\n",
            "книге 34675 дней\n"
          ],
          "name": "stdout"
        }
      ]
    }
  ]
}