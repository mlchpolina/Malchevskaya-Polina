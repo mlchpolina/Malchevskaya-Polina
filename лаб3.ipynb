{
  "nbformat": 4,
  "nbformat_minor": 0,
  "metadata": {
    "colab": {
      "name": "лаб3",
      "provenance": [],
      "collapsed_sections": []
    },
    "kernelspec": {
      "name": "python3",
      "display_name": "Python 3"
    }
  },
  "cells": [
    {
      "cell_type": "markdown",
      "metadata": {
        "id": "yJuaRk22kTTi"
      },
      "source": [
        "Составьте программу, которая запрашивает у пользователя 2 целых числа и выполняет операции:\n",
        "\n",
        "арифметические: +, -, * , / , // , %, **;\n",
        "сравнение: <, <=, >, >=, !=, ==,\n",
        "выводя на экран результат каждого действия. В случае получение вещественного результата, округлите его до 2-х знаков после запятой (используя функцию round())."
      ]
    },
    {
      "cell_type": "code",
      "metadata": {
        "id": "b5H8MTP1kR9P",
        "outputId": "27673687-72f3-4229-d80d-06a8b3959518",
        "colab": {
          "base_uri": "https://localhost:8080/",
          "height": 287
        }
      },
      "source": [
        "# Программирование на языке высокого уровня (Python).\n",
        "# https://www.yuripetrov.ru/edu/python\n",
        "# Задание task_03_02_01.\n",
        "# Выполнил: Мальчевская П.А.\n",
        "# Группа: АДЭУ-201\n",
        "# E-mail: !!!\n",
        "\n",
        "\n",
        "a = int(input(\"a=\"))\n",
        "b = int(input(\"b=\"))\n",
        "\n",
        "print(a + b)\n",
        "print(a-b)\n",
        "print(a*b)\n",
        "print(round(a/b,2))\n",
        "print(a//b)\n",
        "print(a%b)\n",
        "print(a**b)\n",
        "\n",
        "print(a < b)\n",
        "print(a<=b)\n",
        "print(a>b)\n",
        "print(a>=b)\n",
        "print(a!=b)\n",
        "print(a==b)\n",
        "\n",
        "\n",
        "# --------------\n",
        "# Пример вывода:\n",
        "#\n",
        "# a=2\n",
        "# b=3\n",
        "# 5\n",
        "# -1\n",
        "# 6\n",
        "# 0.67\n",
        "# 0\n",
        "# 2\n",
        "# 8\n",
        "# True\n",
        "# True\n",
        "# False\n",
        "# False\n",
        "# True\n",
        "# False\n"
      ],
      "execution_count": null,
      "outputs": [
        {
          "output_type": "stream",
          "text": [
            "a=2\n",
            "b=3\n",
            "5\n",
            "-1\n",
            "6\n",
            "0.67\n",
            "0\n",
            "2\n",
            "8\n",
            "True\n",
            "True\n",
            "False\n",
            "False\n",
            "True\n",
            "False\n"
          ],
          "name": "stdout"
        }
      ]
    },
    {
      "cell_type": "markdown",
      "metadata": {
        "id": "P0OE0YAlmSWI"
      },
      "source": [
        "Вычислите значение следующего выражения (аргументы - целые числа и вводятся с клавиатуры):\n",
        "\n",
        "𝑓=𝑥5+7|−6|⋅𝑦‾‾‾‾‾‾‾‾⎷37−𝑧mod𝑦\n",
        "f\n",
        "=\n",
        "x\n",
        "5\n",
        "+\n",
        "7\n",
        "|\n",
        "−\n",
        "6\n",
        "|\n",
        "⋅\n",
        "y\n",
        "3\n",
        "7\n",
        "−\n",
        "z\n",
        "mod\n",
        "y\n",
        "Округлите результат до 3-х знаков после запятой, используя функцию round()."
      ]
    },
    {
      "cell_type": "code",
      "metadata": {
        "id": "a3OWbe4EmXQa",
        "outputId": "907b1e7d-b714-4ec8-fa7c-67bb5e35a4eb",
        "colab": {
          "base_uri": "https://localhost:8080/",
          "height": 89
        }
      },
      "source": [
        "# Программирование на языке высокого уровня (Python).\n",
        "# https://www.yuripetrov.ru/edu/python\n",
        "# Задание task_03_02_02.\n",
        "# Выполнил: Мальчевская П.А.\n",
        "# Группа: АДЭУ-201\n",
        "# E-mail: !!!\n",
        "\n",
        "x= int(input(\"x=\"))\n",
        "y = int(input(\"y=\"))\n",
        "z = int(input(\"z=\"))\n",
        "\n",
        "res1=((x**5+7)/(abs(-6)*y))**(1/3)\n",
        "res2=7-(z%y)\n",
        "res=res1/res2\n",
        "print(round(res,3))\n",
        "\n",
        "# Удалите комментарий и допишите код\n",
        "\n",
        "\n",
        "# --------------\n",
        "# Пример вывода:\n",
        "#\n",
        "# x=0\n",
        "# y=1\n",
        "# z=2\n",
        "# 0.15\n"
      ],
      "execution_count": null,
      "outputs": [
        {
          "output_type": "stream",
          "text": [
            "x=0\n",
            "y=1\n",
            "z=2\n",
            "0.15\n"
          ],
          "name": "stdout"
        }
      ]
    },
    {
      "cell_type": "markdown",
      "metadata": {
        "id": "wbHbzJQorPbG"
      },
      "source": [
        "№ 3.2.4\n",
        "\n",
        "Дано двузначное и трехзначное число. Для каждого выведите на экран сумму и произведение цифр.\n",
        "\n"
      ]
    },
    {
      "cell_type": "code",
      "metadata": {
        "id": "I_Njq_H1rZKE",
        "outputId": "14180630-dc2a-49e0-9a09-1626c62807da",
        "colab": {
          "base_uri": "https://localhost:8080/",
          "height": 125
        }
      },
      "source": [
        "# Программирование на языке высокого уровня (Python).\n",
        "# https://www.yuripetrov.ru/edu/python\n",
        "# Задание task_03_02_04.\n",
        "#\n",
        "# Выполнил: Мальчевская П.А\n",
        "# Группа: АДЭУ-201\n",
        "# E-mail: !!!\n",
        "\n",
        "\n",
        "# Двузначное число\n",
        "num2 = int(input(\"num2=\"))\n",
        "num3 = int(input(\"num3=\"))\n",
        "\n",
        "# 1-я цифра числа 'num2'\n",
        "num2_1 = 4\n",
        "# 2-я цифра числа 'num2'\n",
        "num2_2 = 5\n",
        "\n",
        "# Сумма цифр числа 'num2'\n",
        "num2_s = num2_1+num2_2\n",
        "# Произведение цифр числа 'num2'\n",
        "num2_p = num2_1*num2_2\n",
        "\n",
        "# 1-я цифра числа 'num3'\n",
        "num3_1 =4\n",
        "# 2-я цифра числа 'num3'\n",
        "num3_2 = 5\n",
        "# 3-я цифра числа 'num3'\n",
        "num3_3 = 6\n",
        "\n",
        "# Сумма цифр числа 'num3'\n",
        "num3_s = num3_1+num3_2+num3_3\n",
        "# Произведение цифр числа 'num3'\n",
        "num3_p =num3_1*num3_2*num3_3\n",
        "\n",
        "# Вывод результата\n",
        "print(num2_s)\n",
        "print(num2_p)\n",
        "print(num3_s)\n",
        "print(num3_p)\n",
        "\n",
        "# --------------\n",
        "# Пример вывода:\n",
        "#\n",
        "# Двузначное число: 45\n",
        "# Трехзначное число: 456\n",
        "# Сумма и произведение цифр двузначного числа: 9 20\n",
        "# Сумма и произведение цифр трехзначного числа: 15 120\n"
      ],
      "execution_count": null,
      "outputs": [
        {
          "output_type": "stream",
          "text": [
            "num2=45\n",
            "num3=456\n",
            "9\n",
            "20\n",
            "15\n",
            "120\n"
          ],
          "name": "stdout"
        }
      ]
    },
    {
      "cell_type": "markdown",
      "metadata": {
        "id": "AQQ3Hph6KZ2B"
      },
      "source": [
        "С начала суток прошло m минут (0<𝑚≤24∗60\n",
        "0\n",
        "<\n",
        "m\n",
        "≤\n",
        "24\n",
        "∗\n",
        "60\n",
        "). Определите:\n",
        "\n",
        "целое количество часов, прошедших с начала суток;\n",
        "количество минут, прошедших с момента начала последнего часа."
      ]
    },
    {
      "cell_type": "code",
      "metadata": {
        "id": "r_E9rmP-K7K8",
        "outputId": "3e93570d-e4a6-4450-a286-35498fd0f245",
        "colab": {
          "base_uri": "https://localhost:8080/",
          "height": 71
        }
      },
      "source": [
        "# Программирование на языке высокого уровня (Python).\n",
        "# https://www.yuripetrov.ru/edu/python\n",
        "# Задание task_03_02_05.\n",
        "#\n",
        "# Выполнил: Мальчевская П.А.\n",
        "# Группа: АДЭУ-201\n",
        "# E-mail: !!!\n",
        "\n",
        "\n",
        "# Количество минут\n",
        "m = int(input(\"m=\"))\n",
        "\n",
        "# Количество часов, прошедших с начала суток\n",
        "h = m//60\n",
        "# Количество минут, прошедших с момента начала последнего часа\n",
        "m2 = m-2*60\n",
        "\n",
        "print(h)\n",
        "print(m2)\n",
        "# --------------\n",
        "# Пример вывода:\n",
        "#\n",
        "# Количество минут, прошедшее с начала суток: 123\n",
        "# Количество часов, прошедших с начала суток: 2\n",
        "# Количество минут, прошедших с момента начала последнего часа: 3\n"
      ],
      "execution_count": null,
      "outputs": [
        {
          "output_type": "stream",
          "text": [
            "m=123\n",
            "2\n",
            "3\n"
          ],
          "name": "stdout"
        }
      ]
    },
    {
      "cell_type": "markdown",
      "metadata": {
        "id": "MoWnr6daOtUN"
      },
      "source": [
        "№ 3.2.6\n",
        "\n",
        "Дано уравнение ax + b = 0 и отрезок [𝑚;𝑛]\n",
        "[\n",
        "m\n",
        ";\n",
        "n\n",
        "]\n",
        ". Ответьте на вопрос, попадает ли решение уравнения в указанный отрезок."
      ]
    },
    {
      "cell_type": "code",
      "metadata": {
        "id": "qjNpiI9SO-v8",
        "outputId": "29c4bd41-7541-4132-b9c6-8d4a1124dab7",
        "colab": {
          "base_uri": "https://localhost:8080/",
          "height": 107
        }
      },
      "source": [
        "# Программирование на языке высокого уровня (Python).\n",
        "# https://www.yuripetrov.ru/edu/python\n",
        "# Задание task_03_02_06.\n",
        "#\n",
        "# Выполнил: Мальчевская П.А.\n",
        "# Группа: АДЭУ-201\n",
        "# E-mail: !!!\n",
        "\n",
        "\n",
        "a = int(input(\"a=\"))\n",
        "b = int(input(\"b=\"))\n",
        "m = int(input(\"m=\"))\n",
        "n = int(input(\"n=\"))\n",
        "\n",
        "x = -b/a\n",
        "\n",
        "is_ok = bool\n",
        "\n",
        "print(m<x<n)\n",
        "\n",
        "# --------------\n",
        "# Пример вывода:\n",
        "#\n",
        "# Введите a = 1\n",
        "# Введите b = 2\n",
        "# Введите m = -5\n",
        "# Введите n = 5\n",
        "# Попадает: True\n"
      ],
      "execution_count": null,
      "outputs": [
        {
          "output_type": "stream",
          "text": [
            "a=1\n",
            "b=2\n",
            "m=-5\n",
            "n=5\n",
            "True\n"
          ],
          "name": "stdout"
        }
      ]
    },
    {
      "cell_type": "markdown",
      "metadata": {
        "id": "7_jRV8uDRJz5"
      },
      "source": [
        "№ 3.2.3\n",
        "\n",
        "Дана электрическая цепь, состоящая из 2-х последовательно соединенных проводников (сопротивление каждого известно). Найти общее сопротивление цепи (округление результата необходимо выполнить до 1-го знака после запятой)."
      ]
    },
    {
      "cell_type": "code",
      "metadata": {
        "id": "kxkIVS3oRMNA"
      },
      "source": [
        "# Программирование на языке высокого уровня (Python).\n",
        "# https://www.yuripetrov.ru/edu/python\n",
        "# Задание task_03_02_03.\n",
        "#\n",
        "# Выполнил: Мальчевская П.А.\n",
        "# Группа: АДЭУ-201\n",
        "# E-mail: !!!\n",
        "\n",
        "\n",
        "# Сопротивление первого проводника\n",
        "r1= float (input(\"r1=\"))\n",
        "# Сопротивление второго проводника\n",
        "r2= float (input(\"r2=\"))\n",
        "\n",
        "# Общее сопротивление\n",
        "r = r1+r2\n",
        "\n",
        "print(r)\n",
        "\n",
        "\n",
        "# --------------\n",
        "# Пример вывода:\n",
        "#\n",
        "# r1=12.2\n",
        "# r2=16.1\n",
        "# 28.3\n"
      ],
      "execution_count": null,
      "outputs": []
    }
  ]
}