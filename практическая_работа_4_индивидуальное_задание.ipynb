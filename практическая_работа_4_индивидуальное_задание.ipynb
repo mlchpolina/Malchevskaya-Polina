{
  "nbformat": 4,
  "nbformat_minor": 0,
  "metadata": {
    "colab": {
      "name": "практическая работа 4 индивидуальное задание",
      "provenance": [],
      "collapsed_sections": [],
      "authorship_tag": "ABX9TyO9zjiiwqKpX5oO4i/V9CLx",
      "include_colab_link": true
    },
    "kernelspec": {
      "name": "python3",
      "display_name": "Python 3"
    }
  },
  "cells": [
    {
      "cell_type": "markdown",
      "metadata": {
        "id": "view-in-github",
        "colab_type": "text"
      },
      "source": [
        "<a href=\"https://colab.research.google.com/github/mlchpolina/Malchevskaya-Polina/blob/main/%D0%BF%D1%80%D0%B0%D0%BA%D1%82%D0%B8%D1%87%D0%B5%D1%81%D0%BA%D0%B0%D1%8F_%D1%80%D0%B0%D0%B1%D0%BE%D1%82%D0%B0_4_%D0%B8%D0%BD%D0%B4%D0%B8%D0%B2%D0%B8%D0%B4%D1%83%D0%B0%D0%BB%D1%8C%D0%BD%D0%BE%D0%B5_%D0%B7%D0%B0%D0%B4%D0%B0%D0%BD%D0%B8%D0%B5.ipynb\" target=\"_parent\"><img src=\"https://colab.research.google.com/assets/colab-badge.svg\" alt=\"Open In Colab\"/></a>"
      ]
    },
    {
      "cell_type": "code",
      "metadata": {
        "colab": {
          "base_uri": "https://localhost:8080/"
        },
        "id": "NuxaLZ0rUCwS",
        "outputId": "5796d6a3-894f-435f-c89c-1e3927c5f285"
      },
      "source": [
        "class Experience:\n",
        "  subject=\"Физика\"\n",
        "  def __init__(self,mark):\n",
        "   self.mark=mark\n",
        "class Test(Experience):\n",
        "  def __init__(self,mark,question,answer=0):\n",
        "    Experience.__init__(self,mark)\n",
        "    self.question=question\n",
        "    self.answer=answer\n",
        "class Exam(Test):\n",
        "  def result(self):\n",
        "    return self.question*self.mark\n",
        " \n",
        "class ImportantExam(Test):\n",
        "  def result(self):\n",
        "    return (self.question*self.mark)+self.answer\n",
        "\n",
        "\n",
        "task1=Exam(10,1)\n",
        "print(\"балл за промежуточный тест\",task1.result())\n",
        "task2=ImportantExam(15,3,7)\n",
        "print(\"баллы за переводной экзамен\",task2.result())\n",
        "\n"
      ],
      "execution_count": 60,
      "outputs": [
        {
          "output_type": "stream",
          "text": [
            "балл за промежуточный тест 10\n",
            "баллы за переводной экзамен 52\n"
          ],
          "name": "stdout"
        }
      ]
    }
  ]
}