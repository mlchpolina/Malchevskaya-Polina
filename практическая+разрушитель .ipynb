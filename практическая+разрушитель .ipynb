{
  "nbformat": 4,
  "nbformat_minor": 0,
  "metadata": {
    "colab": {
      "name": "разрушитель ",
      "provenance": [],
      "collapsed_sections": []
    },
    "kernelspec": {
      "name": "python3",
      "display_name": "Python 3"
    }
  },
  "cells": [
    {
      "cell_type": "code",
      "metadata": {
        "id": "am8Srt76TM0w",
        "outputId": "395f790c-417b-4e23-baac-eb5b508a7138",
        "colab": {
          "base_uri": "https://localhost:8080/"
        }
      },
      "source": [
        "class SpaceShip:\n",
        "  def __init__(self):\n",
        "    self.hp=100\n",
        "    self.speed=13000\n",
        "    self.crew=64\n",
        "    self.power_reserve=560000\n",
        "\n",
        "  def __str__(self):\n",
        "      return \"SpaceShip: {};{};{};{}\".format(self.hp,self.speed,self.crew,self.power_reserve)\n",
        "\n",
        "  def draw(self):\n",
        "        print('+-|--------|-+')\n",
        "        print('+     ПП     +')\n",
        "        print('+     ПП     +')\n",
        "        print('+--П------П--+')\n",
        "\n",
        "class StarDestroyer(SpaceShip):\n",
        "  def __init__(self):\n",
        "    super().__init__()\n",
        "    self.shields=100\n",
        "    self.shields_enabled=False\n",
        "    self.weapons=[100]*15\n",
        "\n",
        "  def __str__(self):\n",
        "    return \"StarDestroyer:{};{}\".format (self.shields,self.weapons)\n",
        "\n",
        "  def shields_on(self):\n",
        "    self.shields_enabled=False\n",
        "\n",
        "  def hit(self):\n",
        "    if self.shields_enabled:\n",
        "        self.shields -=10\n",
        "    else:\n",
        "      self.hp -=10\n",
        "\n",
        "  def draw(self):\n",
        "    print(\"       /\\       \")\n",
        "    print(\"      /  \\      \")\n",
        "    print(\"     /    \\     \")\n",
        "    print(\"    / | |  \\    \")\n",
        "    print(\"   /  /..\\  \\   \")\n",
        "    print(\"+---+-----+----+\")\n",
        "    print(\"    |_|  |_|   \")\n",
        "\n",
        "k=SpaceShip()\n",
        "print(k.draw())\n",
        "\n",
        "p=StarDestroyer()\n",
        "print(p.draw())"
      ],
      "execution_count": null,
      "outputs": [
        {
          "output_type": "stream",
          "text": [
            "+-|--------|-+\n",
            "+     ПП     +\n",
            "+     ПП     +\n",
            "+--П------П--+\n",
            "None\n",
            "       /\\       \n",
            "      /  \\      \n",
            "     /    \\     \n",
            "    / | |  \\    \n",
            "   /  /..\\  \\   \n",
            "+---+-----+----+\n",
            "    |_|  |_|   \n",
            "None\n"
          ],
          "name": "stdout"
        }
      ]
    },
    {
      "cell_type": "markdown",
      "metadata": {
        "id": "3XGDs7qJQcbD"
      },
      "source": [
        "ПРАКТИЧЕСКАЯ РАБОТА "
      ]
    },
    {
      "cell_type": "markdown",
      "metadata": {
        "id": "6JXBqvnDhPkt"
      },
      "source": [
        "1 ЗАДАНИЕ\n"
      ]
    },
    {
      "cell_type": "code",
      "metadata": {
        "id": "CcJC2JAMa8Iq",
        "outputId": "3b16a3ae-7fc5-4443-bee9-a336e1900863",
        "colab": {
          "base_uri": "https://localhost:8080/",
          "height": 89
        }
      },
      "source": [
        "class First:\n",
        "  color=\"red\"\n",
        "  def out(self):\n",
        "    print(self.color + \"!\")\n",
        "\n",
        "obj1=First()\n",
        "obj2=First()\n",
        "\n",
        "print(obj1.color)\n",
        "print(obj2.color)\n",
        "obj1.out()\n",
        "obj2.out()\n"
      ],
      "execution_count": null,
      "outputs": [
        {
          "output_type": "stream",
          "text": [
            "red\n",
            "red\n",
            "red!\n",
            "red!\n"
          ],
          "name": "stdout"
        }
      ]
    },
    {
      "cell_type": "markdown",
      "metadata": {
        "id": "R7K3ba8FmP-8"
      },
      "source": [
        "2 ЗАДАНИЕ+свойство,метод,оъект "
      ]
    },
    {
      "cell_type": "code",
      "metadata": {
        "id": "TykdG7aGcD-v",
        "outputId": "b7bd82ed-085a-4cb0-831f-24748a0ed6d4",
        "colab": {
          "base_uri": "https://localhost:8080/",
          "height": 125
        }
      },
      "source": [
        "class Second:\n",
        "  color=\"red\"\n",
        "  form=\"cicrle\"\n",
        "  size=\"small\"\n",
        "  def changecolor (self,newcolor):\n",
        "    self.color=newcolor\n",
        "\n",
        "  def changeform(self,newform):\n",
        "   self.form=newform\n",
        "\n",
        "  def changesize(self,newsize):\n",
        "    self.size=newsize\n",
        "\n",
        "obj1=Second()\n",
        "obj2=Second()\n",
        "\n",
        "print(obj1.color,obj1.form,obj1.size)\n",
        "print(obj2.color,obj2.form,obj2.size)\n",
        "\n",
        "obj1.changecolor(\"green\")\n",
        "obj2.changecolor(\"blue\")\n",
        "obj2.changeform(\"oval\")\n",
        "\n",
        "print(obj1.color,obj1.form,obj1.size)\n",
        "print(obj2.color,obj2.form,obj2.size)\n",
        "\n",
        "obj3=Second()\n",
        "print(obj3.color,obj3.form,obj3.size)\n",
        "\n",
        "obj3.changesize(\"large\")\n",
        "obj3.changeform(\"triangle\")\n",
        "obj3.changecolor(\"purple\")\n",
        "print(obj3.color,obj3.form,obj3.size)\n"
      ],
      "execution_count": null,
      "outputs": [
        {
          "output_type": "stream",
          "text": [
            "red cicrle small\n",
            "red cicrle small\n",
            "green cicrle small\n",
            "blue oval small\n",
            "red cicrle small\n",
            "purple triangle large\n"
          ],
          "name": "stdout"
        }
      ]
    },
    {
      "cell_type": "markdown",
      "metadata": {
        "id": "6aKANKiUG-x0"
      },
      "source": [
        "НАПИШИТЕ ПРОГРАММУ В СТИЛЕ ООП..."
      ]
    },
    {
      "cell_type": "code",
      "metadata": {
        "id": "lROQ1yCKHH0G",
        "outputId": "8073dfa9-bce4-4c1d-c36d-747a361d7c68",
        "colab": {
          "base_uri": "https://localhost:8080/",
          "height": 89
        }
      },
      "source": [
        "class Human:\n",
        "  def __init__(self,n,a,ac):\n",
        "    self.name=n\n",
        "    self.age=a\n",
        "    self.activity=ac\n",
        "\n",
        "  def outing(self):\n",
        "    print(self.name,self.age,self.activity)\n",
        "\n",
        "class Working:\n",
        "    def work(self,activity):\n",
        "      if activity==\"делала программирование\":\n",
        "        print(\"поставьте пять я очень долго делала практическую\")\n",
        "      elif activity==\"учила алгебру\":\n",
        "        print(\"поздно легла спать\")\n",
        "      else:\n",
        "        print(\"Бездельник\")\n",
        "    \n",
        "\n",
        "\n",
        "v1=Working()\n",
        "v2=Human(\"Полина\",18,\"делала программирование\")\n",
        "v2.outing()\n",
        "v1.work(v2.activity)\n",
        "v3=Human(\"Алина\",18,\"учила алгебру\")\n",
        "v3.outing()\n",
        "v1.work(v3.activity)"
      ],
      "execution_count": null,
      "outputs": [
        {
          "output_type": "stream",
          "text": [
            "Полина 18 делала программирование\n",
            "поставьте пять я очень долго делала практическую\n",
            "Алина 18 учила алгебру\n",
            "поздно легла спать\n"
          ],
          "name": "stdout"
        }
      ]
    },
    {
      "cell_type": "markdown",
      "metadata": {
        "id": "_UT61h1NhZDW"
      },
      "source": [
        "3 ЗАДАНИЕ"
      ]
    },
    {
      "cell_type": "code",
      "metadata": {
        "id": "rrDzseddjaaB",
        "outputId": "d2a3e475-ad3b-4f77-918d-bf2f651d8c5b",
        "colab": {
          "base_uri": "https://localhost:8080/",
          "height": 53
        }
      },
      "source": [
        "class YesInit: \n",
        "  def __init__(self,one,two):\n",
        "     self.fname=one \n",
        "     self.sname=two \n",
        "\n",
        "obj1=YesInit (\"Peter  \",\" Ok \") \n",
        "\n",
        "print(obj1.fname, obj1.sname) \n",
        "\n",
        "class NoInit: \n",
        "  def names (self, one, two): \n",
        "    self.fname=one \n",
        "    self.sname= two\n",
        "    \n",
        "obj1=NoInit()\n",
        "obj1.names(\"Peter\",\"Ok\")  \n",
        "\n",
        "print(obj1.fname,obj1.sname)\n"
      ],
      "execution_count": null,
      "outputs": [
        {
          "output_type": "stream",
          "text": [
            "Peter    Ok \n",
            "Peter Ok\n"
          ],
          "name": "stdout"
        }
      ]
    },
    {
      "cell_type": "markdown",
      "metadata": {
        "id": "GmqqzWakhh2D"
      },
      "source": [
        "4 ЗАДАНИЕ"
      ]
    },
    {
      "cell_type": "code",
      "metadata": {
        "id": "SFzWrfigLJU3",
        "outputId": "0304cb3c-306d-4f80-fdba-4ad88de744b1",
        "colab": {
          "base_uri": "https://localhost:8080/",
          "height": 89
        }
      },
      "source": [
        "class YesInit:\n",
        "  def __init__(self,one=\"noname\",two=\"nonametoo\"):\n",
        "    self.fname=one\n",
        "    self.sname=two\n",
        "\n",
        "obj1=YesInit(\"Sasha\",\"Tu\")\n",
        "obj2=YesInit()\n",
        "obj3=YesInit(\"Spartak\")\n",
        "obj4=YesInit(two=\"Harry\")\n",
        "\n",
        "print(obj1.fname,obj1.sname)\n",
        "print(obj2.fname,obj2.sname)\n",
        "print(obj3.fname,obj3.sname)\n",
        "print(obj4.fname,obj3.sname)"
      ],
      "execution_count": null,
      "outputs": [
        {
          "output_type": "stream",
          "text": [
            "Sasha Tu\n",
            "noname nonametoo\n",
            "Spartak nonametoo\n",
            "noname nonametoo\n"
          ],
          "name": "stdout"
        }
      ]
    },
    {
      "cell_type": "markdown",
      "metadata": {
        "id": "J9JH-ARehsO1"
      },
      "source": [
        "6 ЗАДАНИЕ"
      ]
    },
    {
      "cell_type": "code",
      "metadata": {
        "id": "qEjO2YRfSKCP",
        "outputId": "74b059a4-e566-4b4e-d288-b3a5b799ecea",
        "colab": {
          "base_uri": "https://localhost:8080/"
        }
      },
      "source": [
        "class Building:\n",
        "  def __init__(self,w,c,n=0):\n",
        "    self.what=w\n",
        "    self.colour=c\n",
        "    self.numbers=n\n",
        "    self.mwhere(n)\n",
        "\n",
        "  def mwhere(self,n):\n",
        "    if n <= 0:\n",
        "      self.where=\"отсутсвует\"\n",
        "    elif 0<n<100:\n",
        "      self.where=\"малый склад\"\n",
        "    else:\n",
        "      self.where=\"основной склад\"\n",
        "  def plus(self,p):\n",
        "    self.numbers=self.numbers+p\n",
        "    self.mwhere(self.numbers)\n",
        "  def minus(self,m):\n",
        "    self.numbers=self.numbers-m\n",
        "    self.mwhere(self.numbers)\n",
        "\n",
        "m1=Building(\"доски\",\"белые\",50)\n",
        "m2=Building(\"доски\",\"коричневые\",300)\n",
        "m3=Building(\"кирпичи\",\"белые\")\n",
        "\n",
        "print(m1.what,m1.colour,m1.where)\n",
        "print(m2.what,m2.colour,m2.where)\n",
        "print(m3.what,m3.colour,m3.where)\n",
        "\n",
        "m1.plus(500)\n",
        "print(m1.numbers,m1.where)"
      ],
      "execution_count": null,
      "outputs": [
        {
          "output_type": "stream",
          "text": [
            "доски белые малый склад\n",
            "доски коричневые основной склад\n",
            "кирпичи белые отсутсвует\n",
            "550 основной склад\n"
          ],
          "name": "stdout"
        }
      ]
    },
    {
      "cell_type": "markdown",
      "metadata": {
        "id": "joqEMiQrh1GR"
      },
      "source": [
        "САМОСТОЯТЕЛЬНО ПРИДУМАЙТЕ КЛАСС,СОДЕРЖАЩИЙ КОНСТРУКТОР.СОЗДАЙТЕ НА ЕГО ОСНОВЕ НЕСКОЛЬКО ОБЪЕКТОВ."
      ]
    },
    {
      "cell_type": "code",
      "metadata": {
        "id": "_A7eCE5ufwPR",
        "outputId": "1d3e93c7-5800-49fa-910b-f5619d4b5c24",
        "colab": {
          "base_uri": "https://localhost:8080/"
        }
      },
      "source": [
        "class school:\n",
        "  def __init__(self,s,t):\n",
        "    self.subject=s\n",
        "    self.time=t\n",
        "\n",
        "m=school(\"математика\",\"4 часа\")\n",
        "o=school(\"обж\",\"1 час\")\n",
        "\n",
        "print(m.subject,m.time)\n",
        "print(o.subject,o.time)\n"
      ],
      "execution_count": null,
      "outputs": [
        {
          "output_type": "stream",
          "text": [
            "математика 4 часа\n",
            "обж 1 час\n"
          ],
          "name": "stdout"
        }
      ]
    },
    {
      "cell_type": "markdown",
      "metadata": {
        "id": "zoG0syldjDVa"
      },
      "source": [
        "7 ЗАДАНИЕ(+исправленная ошибка)"
      ]
    },
    {
      "cell_type": "code",
      "metadata": {
        "id": "14F1QYpnizK0",
        "outputId": "04e655f6-83e7-4e19-c736-eb5ec440833a",
        "colab": {
          "base_uri": "https://localhost:8080/"
        }
      },
      "source": [
        "class Things:\n",
        "  def __init__(self,n,t):\n",
        "    self.namething=n\n",
        "    self.total=t\n",
        "\n",
        "th1=Things(\"table\",5)\n",
        "th2=Things(\"computer\",7)\n",
        "\n",
        "print(th1.namething,th1.total)\n",
        "print(th2.namething,th2.total)\n",
        "\n",
        "th1.colour=\"green\"\n",
        "th2.colour=\"white\"\n",
        "\n",
        "\n",
        "print(th1.namething,th1.total,th1.colour)\n",
        "print(th2.namething,th2.total,th2.colour)"
      ],
      "execution_count": null,
      "outputs": [
        {
          "output_type": "stream",
          "text": [
            "table 5\n",
            "computer 7\n",
            "table 5 green\n",
            "computer 7 white\n"
          ],
          "name": "stdout"
        }
      ]
    },
    {
      "cell_type": "markdown",
      "metadata": {
        "id": "TlD3w91blfHE"
      },
      "source": [
        "8 ЗАДАНИЕ+ подкалсс и методы"
      ]
    },
    {
      "cell_type": "code",
      "metadata": {
        "id": "3ZUavht5lHsF",
        "outputId": "9a0cf172-c79d-47d3-9192-376529d9030a",
        "colab": {
          "base_uri": "https://localhost:8080/",
          "height": 107
        }
      },
      "source": [
        "class Table:\n",
        "  def __init__(self,l,w,h):\n",
        "    self.long=l\n",
        "    self.width=w\n",
        "    self.height=h\n",
        "\n",
        "  def outing(self):\n",
        "    print(self.long,self.width,self.height)\n",
        "\n",
        "class Kitchen(Table):\n",
        "  def howplaces(self,n):\n",
        "    if n<2:\n",
        "      print(\"It is not kitchen table\")\n",
        "    else:\n",
        "      self.places=n\n",
        "\n",
        "  def outplaces(self):\n",
        "    print(self.places)\n",
        "\n",
        "t_room1=Kitchen(2,1,0.5)\n",
        "t_room1.outing()\n",
        "t_room1.howplaces(5)\n",
        "t_room1.outplaces()\n",
        "\n",
        "t_2=Table(1,3,0.7)\n",
        "t_2.outing()\n",
        "\n",
        "# к классу Table не применяется метод howplaces, так как указанный метод дейсивует только на подкласс\n",
        "\n",
        "class Worker(Table):\n",
        "  def material(self,m):\n",
        "    if m==\"wood\":\n",
        "      print(\"ЭТО ПАРТА\")\n",
        "    else:\n",
        "      print(\"обычный рабочий стол\")\n",
        "\n",
        "\n",
        "t_3=Worker(2,6,0.5)\n",
        "t_3.material(\"дерево\")\n",
        "t_3.outing()"
      ],
      "execution_count": null,
      "outputs": [
        {
          "output_type": "stream",
          "text": [
            "2 1 0.5\n",
            "5\n",
            "1 3 0.7\n",
            "обычный рабочий стол\n",
            "2 6 0.5\n"
          ],
          "name": "stdout"
        }
      ]
    },
    {
      "cell_type": "markdown",
      "metadata": {
        "id": "jYAxtjMgzpwy"
      },
      "source": [
        "КЛАСС FIGURE"
      ]
    },
    {
      "cell_type": "code",
      "metadata": {
        "id": "WMiAJqz7z0D7",
        "outputId": "a60a0382-1356-4106-b5f1-8e8d328449c2",
        "colab": {
          "base_uri": "https://localhost:8080/",
          "height": 71
        }
      },
      "source": [
        " class figure:\n",
        "   color=\"white\"\n",
        "   def changecolor(self,newcolor):\n",
        "    self.color=newcolor\n",
        "\n",
        " class Oval(figure):\n",
        "   def __init__(self,s,v):\n",
        "     self.square=s\n",
        "     self.size=v\n",
        "\n",
        " class Sqare(figure):\n",
        "   def __init__(self,a,b,c):\n",
        "     self.length=a\n",
        "     self.width=b\n",
        "     self.height=c\n",
        "\n",
        " m=Oval(1,8)\n",
        " s=Sqare(2,3,5)\n",
        "\n",
        "print(m.square,m.size,m.color)\n",
        "print(s.length,s.width,s.height,s.color)\n",
        "\n",
        "m.changecolor(\"pink\")\n",
        "print(m.square,m.size,m.color)\n",
        "\n",
        "\n"
      ],
      "execution_count": null,
      "outputs": [
        {
          "output_type": "stream",
          "text": [
            "1 8 white\n",
            "2 3 5 white\n",
            "1 8 pink\n"
          ],
          "name": "stdout"
        }
      ]
    }
  ]
}